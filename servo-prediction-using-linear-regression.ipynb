{
 "cells": [
  {
   "cell_type": "markdown",
   "id": "3f212adc",
   "metadata": {
    "id": "24qeOUF3lBiC",
    "papermill": {
     "duration": 0.015119,
     "end_time": "2023-07-20T19:56:18.993414",
     "exception": false,
     "start_time": "2023-07-20T19:56:18.978295",
     "status": "completed"
    },
    "tags": []
   },
   "source": [
    "# <center> SERVO PREDICTION USING LINEAR REGRESSION </center>\n"
   ]
  },
  {
   "cell_type": "markdown",
   "id": "76e0f8ba",
   "metadata": {
    "id": "wxjPX3FElQpL",
    "papermill": {
     "duration": 0.014263,
     "end_time": "2023-07-20T19:56:19.022874",
     "exception": false,
     "start_time": "2023-07-20T19:56:19.008611",
     "status": "completed"
    },
    "tags": []
   },
   "source": [
    "## OBJECTIVE"
   ]
  },
  {
   "cell_type": "markdown",
   "id": "17aa20bb",
   "metadata": {
    "papermill": {
     "duration": 0.014241,
     "end_time": "2023-07-20T19:56:19.051908",
     "exception": false,
     "start_time": "2023-07-20T19:56:19.037667",
     "status": "completed"
    },
    "tags": []
   },
   "source": [
    "* **To import and analyse the data**\n",
    "\n",
    "* **Then visualize the data using various plot**\n",
    "\n",
    "* **Now clean and preprocess the data**\n",
    "\n",
    "* **Then split train-teat data and perform modeling**"
   ]
  },
  {
   "cell_type": "markdown",
   "id": "83ec36a6",
   "metadata": {
    "id": "pUpGKhiMlU-H",
    "papermill": {
     "duration": 0.014356,
     "end_time": "2023-07-20T19:56:19.080717",
     "exception": false,
     "start_time": "2023-07-20T19:56:19.066361",
     "status": "completed"
    },
    "tags": []
   },
   "source": [
    "## Data Source"
   ]
  },
  {
   "cell_type": "markdown",
   "id": "b6a72b49",
   "metadata": {
    "id": "QmhmniTPlZK5",
    "papermill": {
     "duration": 0.014888,
     "end_time": "2023-07-20T19:56:19.110656",
     "exception": false,
     "start_time": "2023-07-20T19:56:19.095768",
     "status": "completed"
    },
    "tags": []
   },
   "source": [
    "The data is downloaded from https://github.com/YBI-Foundation/Dataset/raw/main/Servo%20Mechanism.csv\n",
    "\n",
    "This is in the CSV format"
   ]
  },
  {
   "cell_type": "markdown",
   "id": "00b3e7ef",
   "metadata": {
    "papermill": {
     "duration": 0.014415,
     "end_time": "2023-07-20T19:56:19.139602",
     "exception": false,
     "start_time": "2023-07-20T19:56:19.125187",
     "status": "completed"
    },
    "tags": []
   },
   "source": [
    "# IMPORTING THE LIBRARIES"
   ]
  },
  {
   "cell_type": "code",
   "execution_count": 1,
   "id": "78a90a33",
   "metadata": {
    "execution": {
     "iopub.execute_input": "2023-07-20T19:56:19.170753Z",
     "iopub.status.busy": "2023-07-20T19:56:19.170275Z",
     "iopub.status.idle": "2023-07-20T19:56:21.197685Z",
     "shell.execute_reply": "2023-07-20T19:56:21.196555Z"
    },
    "id": "QBQCbzmzk-QI",
    "papermill": {
     "duration": 2.046314,
     "end_time": "2023-07-20T19:56:21.200452",
     "exception": false,
     "start_time": "2023-07-20T19:56:19.154138",
     "status": "completed"
    },
    "tags": []
   },
   "outputs": [],
   "source": [
    "import pandas as pd\n",
    "import numpy as np\n",
    "\n",
    "import seaborn as sns\n",
    "import matplotlib.pyplot as plt\n",
    "\n",
    "import warnings\n",
    "warnings.filterwarnings('ignore')\n",
    "\n",
    "from sklearn.model_selection import train_test_split\n",
    "\n",
    "from sklearn.metrics import mean_squared_error, mean_absolute_error, r2_score\n",
    "\n",
    "from sklearn.linear_model import LinearRegression"
   ]
  },
  {
   "cell_type": "markdown",
   "id": "d2d947ac",
   "metadata": {
    "id": "IrOosC2tmuAP",
    "papermill": {
     "duration": 0.014231,
     "end_time": "2023-07-20T19:56:21.229770",
     "exception": false,
     "start_time": "2023-07-20T19:56:21.215539",
     "status": "completed"
    },
    "tags": []
   },
   "source": [
    "# IMPORTING DATA"
   ]
  },
  {
   "cell_type": "code",
   "execution_count": 2,
   "id": "b068e6a6",
   "metadata": {
    "execution": {
     "iopub.execute_input": "2023-07-20T19:56:21.260806Z",
     "iopub.status.busy": "2023-07-20T19:56:21.260345Z",
     "iopub.status.idle": "2023-07-20T19:56:21.668442Z",
     "shell.execute_reply": "2023-07-20T19:56:21.667192Z"
    },
    "id": "ypZGHbkoml3u",
    "papermill": {
     "duration": 0.427128,
     "end_time": "2023-07-20T19:56:21.671367",
     "exception": false,
     "start_time": "2023-07-20T19:56:21.244239",
     "status": "completed"
    },
    "tags": []
   },
   "outputs": [],
   "source": [
    "df = pd.read_csv(r'https://github.com/YBI-Foundation/Dataset/raw/main/Servo%20Mechanism.csv')"
   ]
  },
  {
   "cell_type": "code",
   "execution_count": 3,
   "id": "f4462a7b",
   "metadata": {
    "execution": {
     "iopub.execute_input": "2023-07-20T19:56:21.702613Z",
     "iopub.status.busy": "2023-07-20T19:56:21.702153Z",
     "iopub.status.idle": "2023-07-20T19:56:21.740543Z",
     "shell.execute_reply": "2023-07-20T19:56:21.739067Z"
    },
    "id": "x58IZcT3nKdy",
    "outputId": "ca8a806b-ab3b-4188-9f5f-3c61bd7c6547",
    "papermill": {
     "duration": 0.057173,
     "end_time": "2023-07-20T19:56:21.743291",
     "exception": false,
     "start_time": "2023-07-20T19:56:21.686118",
     "status": "completed"
    },
    "tags": []
   },
   "outputs": [
    {
     "data": {
      "text/html": [
       "<div>\n",
       "<style scoped>\n",
       "    .dataframe tbody tr th:only-of-type {\n",
       "        vertical-align: middle;\n",
       "    }\n",
       "\n",
       "    .dataframe tbody tr th {\n",
       "        vertical-align: top;\n",
       "    }\n",
       "\n",
       "    .dataframe thead th {\n",
       "        text-align: right;\n",
       "    }\n",
       "</style>\n",
       "<table border=\"1\" class=\"dataframe\">\n",
       "  <thead>\n",
       "    <tr style=\"text-align: right;\">\n",
       "      <th></th>\n",
       "      <th>Motor</th>\n",
       "      <th>Screw</th>\n",
       "      <th>Pgain</th>\n",
       "      <th>Vgain</th>\n",
       "      <th>Class</th>\n",
       "    </tr>\n",
       "  </thead>\n",
       "  <tbody>\n",
       "    <tr>\n",
       "      <th>0</th>\n",
       "      <td>E</td>\n",
       "      <td>E</td>\n",
       "      <td>5</td>\n",
       "      <td>4</td>\n",
       "      <td>4</td>\n",
       "    </tr>\n",
       "    <tr>\n",
       "      <th>1</th>\n",
       "      <td>B</td>\n",
       "      <td>D</td>\n",
       "      <td>6</td>\n",
       "      <td>5</td>\n",
       "      <td>11</td>\n",
       "    </tr>\n",
       "    <tr>\n",
       "      <th>2</th>\n",
       "      <td>D</td>\n",
       "      <td>D</td>\n",
       "      <td>4</td>\n",
       "      <td>3</td>\n",
       "      <td>6</td>\n",
       "    </tr>\n",
       "    <tr>\n",
       "      <th>3</th>\n",
       "      <td>B</td>\n",
       "      <td>A</td>\n",
       "      <td>3</td>\n",
       "      <td>2</td>\n",
       "      <td>48</td>\n",
       "    </tr>\n",
       "    <tr>\n",
       "      <th>4</th>\n",
       "      <td>D</td>\n",
       "      <td>B</td>\n",
       "      <td>6</td>\n",
       "      <td>5</td>\n",
       "      <td>6</td>\n",
       "    </tr>\n",
       "  </tbody>\n",
       "</table>\n",
       "</div>"
      ],
      "text/plain": [
       "  Motor Screw  Pgain  Vgain  Class\n",
       "0     E     E      5      4      4\n",
       "1     B     D      6      5     11\n",
       "2     D     D      4      3      6\n",
       "3     B     A      3      2     48\n",
       "4     D     B      6      5      6"
      ]
     },
     "execution_count": 3,
     "metadata": {},
     "output_type": "execute_result"
    }
   ],
   "source": [
    "df.head()"
   ]
  },
  {
   "cell_type": "markdown",
   "id": "bd5ca1bb",
   "metadata": {
    "id": "-bfvp6I5na4U",
    "papermill": {
     "duration": 0.022182,
     "end_time": "2023-07-20T19:56:21.784671",
     "exception": false,
     "start_time": "2023-07-20T19:56:21.762489",
     "status": "completed"
    },
    "tags": []
   },
   "source": [
    "# DESCRIBE DATA"
   ]
  },
  {
   "cell_type": "code",
   "execution_count": 4,
   "id": "4c47e79d",
   "metadata": {
    "execution": {
     "iopub.execute_input": "2023-07-20T19:56:21.823688Z",
     "iopub.status.busy": "2023-07-20T19:56:21.822806Z",
     "iopub.status.idle": "2023-07-20T19:56:21.850882Z",
     "shell.execute_reply": "2023-07-20T19:56:21.849322Z"
    },
    "id": "YE0amVD1nW22",
    "outputId": "cde38b99-a5d0-4d3a-8244-0125d81c262a",
    "papermill": {
     "duration": 0.051828,
     "end_time": "2023-07-20T19:56:21.853315",
     "exception": false,
     "start_time": "2023-07-20T19:56:21.801487",
     "status": "completed"
    },
    "tags": []
   },
   "outputs": [
    {
     "name": "stdout",
     "output_type": "stream",
     "text": [
      "<class 'pandas.core.frame.DataFrame'>\n",
      "RangeIndex: 167 entries, 0 to 166\n",
      "Data columns (total 5 columns):\n",
      " #   Column  Non-Null Count  Dtype \n",
      "---  ------  --------------  ----- \n",
      " 0   Motor   167 non-null    object\n",
      " 1   Screw   167 non-null    object\n",
      " 2   Pgain   167 non-null    int64 \n",
      " 3   Vgain   167 non-null    int64 \n",
      " 4   Class   167 non-null    int64 \n",
      "dtypes: int64(3), object(2)\n",
      "memory usage: 6.6+ KB\n"
     ]
    }
   ],
   "source": [
    "df.info()"
   ]
  },
  {
   "cell_type": "code",
   "execution_count": 5,
   "id": "18e25b57",
   "metadata": {
    "execution": {
     "iopub.execute_input": "2023-07-20T19:56:21.886092Z",
     "iopub.status.busy": "2023-07-20T19:56:21.885633Z",
     "iopub.status.idle": "2023-07-20T19:56:21.912060Z",
     "shell.execute_reply": "2023-07-20T19:56:21.910708Z"
    },
    "id": "ETkgSmtanfQg",
    "outputId": "b24a36ba-edff-4a52-cdee-41fa82323298",
    "papermill": {
     "duration": 0.046491,
     "end_time": "2023-07-20T19:56:21.914703",
     "exception": false,
     "start_time": "2023-07-20T19:56:21.868212",
     "status": "completed"
    },
    "tags": []
   },
   "outputs": [
    {
     "data": {
      "text/html": [
       "<div>\n",
       "<style scoped>\n",
       "    .dataframe tbody tr th:only-of-type {\n",
       "        vertical-align: middle;\n",
       "    }\n",
       "\n",
       "    .dataframe tbody tr th {\n",
       "        vertical-align: top;\n",
       "    }\n",
       "\n",
       "    .dataframe thead th {\n",
       "        text-align: right;\n",
       "    }\n",
       "</style>\n",
       "<table border=\"1\" class=\"dataframe\">\n",
       "  <thead>\n",
       "    <tr style=\"text-align: right;\">\n",
       "      <th></th>\n",
       "      <th>Pgain</th>\n",
       "      <th>Vgain</th>\n",
       "      <th>Class</th>\n",
       "    </tr>\n",
       "  </thead>\n",
       "  <tbody>\n",
       "    <tr>\n",
       "      <th>count</th>\n",
       "      <td>167.000000</td>\n",
       "      <td>167.000000</td>\n",
       "      <td>167.000000</td>\n",
       "    </tr>\n",
       "    <tr>\n",
       "      <th>mean</th>\n",
       "      <td>4.155689</td>\n",
       "      <td>2.538922</td>\n",
       "      <td>21.173653</td>\n",
       "    </tr>\n",
       "    <tr>\n",
       "      <th>std</th>\n",
       "      <td>1.017770</td>\n",
       "      <td>1.369850</td>\n",
       "      <td>13.908038</td>\n",
       "    </tr>\n",
       "    <tr>\n",
       "      <th>min</th>\n",
       "      <td>3.000000</td>\n",
       "      <td>1.000000</td>\n",
       "      <td>1.000000</td>\n",
       "    </tr>\n",
       "    <tr>\n",
       "      <th>25%</th>\n",
       "      <td>3.000000</td>\n",
       "      <td>1.000000</td>\n",
       "      <td>10.500000</td>\n",
       "    </tr>\n",
       "    <tr>\n",
       "      <th>50%</th>\n",
       "      <td>4.000000</td>\n",
       "      <td>2.000000</td>\n",
       "      <td>18.000000</td>\n",
       "    </tr>\n",
       "    <tr>\n",
       "      <th>75%</th>\n",
       "      <td>5.000000</td>\n",
       "      <td>4.000000</td>\n",
       "      <td>33.500000</td>\n",
       "    </tr>\n",
       "    <tr>\n",
       "      <th>max</th>\n",
       "      <td>6.000000</td>\n",
       "      <td>5.000000</td>\n",
       "      <td>51.000000</td>\n",
       "    </tr>\n",
       "  </tbody>\n",
       "</table>\n",
       "</div>"
      ],
      "text/plain": [
       "            Pgain       Vgain       Class\n",
       "count  167.000000  167.000000  167.000000\n",
       "mean     4.155689    2.538922   21.173653\n",
       "std      1.017770    1.369850   13.908038\n",
       "min      3.000000    1.000000    1.000000\n",
       "25%      3.000000    1.000000   10.500000\n",
       "50%      4.000000    2.000000   18.000000\n",
       "75%      5.000000    4.000000   33.500000\n",
       "max      6.000000    5.000000   51.000000"
      ]
     },
     "execution_count": 5,
     "metadata": {},
     "output_type": "execute_result"
    }
   ],
   "source": [
    "df.describe()"
   ]
  },
  {
   "cell_type": "code",
   "execution_count": 6,
   "id": "e5442745",
   "metadata": {
    "execution": {
     "iopub.execute_input": "2023-07-20T19:56:21.947333Z",
     "iopub.status.busy": "2023-07-20T19:56:21.946867Z",
     "iopub.status.idle": "2023-07-20T19:56:21.955217Z",
     "shell.execute_reply": "2023-07-20T19:56:21.953969Z"
    },
    "id": "ChuwdZyvnhDt",
    "outputId": "b4a93537-9d69-4f41-f6e3-0025eb30d7fb",
    "papermill": {
     "duration": 0.027557,
     "end_time": "2023-07-20T19:56:21.957622",
     "exception": false,
     "start_time": "2023-07-20T19:56:21.930065",
     "status": "completed"
    },
    "tags": []
   },
   "outputs": [
    {
     "data": {
      "text/plain": [
       "Index(['Motor', 'Screw', 'Pgain', 'Vgain', 'Class'], dtype='object')"
      ]
     },
     "execution_count": 6,
     "metadata": {},
     "output_type": "execute_result"
    }
   ],
   "source": [
    "df.columns"
   ]
  },
  {
   "cell_type": "code",
   "execution_count": 7,
   "id": "539d8929",
   "metadata": {
    "execution": {
     "iopub.execute_input": "2023-07-20T19:56:21.991028Z",
     "iopub.status.busy": "2023-07-20T19:56:21.990594Z",
     "iopub.status.idle": "2023-07-20T19:56:21.997865Z",
     "shell.execute_reply": "2023-07-20T19:56:21.996675Z"
    },
    "id": "FPguzutVnx0X",
    "outputId": "925bec56-a17d-49e1-d33d-095528953f9c",
    "papermill": {
     "duration": 0.027133,
     "end_time": "2023-07-20T19:56:22.000289",
     "exception": false,
     "start_time": "2023-07-20T19:56:21.973156",
     "status": "completed"
    },
    "tags": []
   },
   "outputs": [
    {
     "data": {
      "text/plain": [
       "(167, 5)"
      ]
     },
     "execution_count": 7,
     "metadata": {},
     "output_type": "execute_result"
    }
   ],
   "source": [
    "df.shape"
   ]
  },
  {
   "cell_type": "code",
   "execution_count": 8,
   "id": "19ab19c1",
   "metadata": {
    "execution": {
     "iopub.execute_input": "2023-07-20T19:56:22.034331Z",
     "iopub.status.busy": "2023-07-20T19:56:22.033921Z",
     "iopub.status.idle": "2023-07-20T19:56:22.046717Z",
     "shell.execute_reply": "2023-07-20T19:56:22.045526Z"
    },
    "id": "g-cE8sJnnzGp",
    "outputId": "e979ecc0-a7fd-43a4-99bc-413c06566ae1",
    "papermill": {
     "duration": 0.033092,
     "end_time": "2023-07-20T19:56:22.049367",
     "exception": false,
     "start_time": "2023-07-20T19:56:22.016275",
     "status": "completed"
    },
    "tags": []
   },
   "outputs": [
    {
     "data": {
      "text/plain": [
       "Motor\n",
       "C        40\n",
       "A        36\n",
       "B        36\n",
       "E        33\n",
       "D        22\n",
       "dtype: int64"
      ]
     },
     "execution_count": 8,
     "metadata": {},
     "output_type": "execute_result"
    }
   ],
   "source": [
    "df[['Motor']].value_counts()"
   ]
  },
  {
   "cell_type": "code",
   "execution_count": 9,
   "id": "e3b14927",
   "metadata": {
    "execution": {
     "iopub.execute_input": "2023-07-20T19:56:22.083740Z",
     "iopub.status.busy": "2023-07-20T19:56:22.083268Z",
     "iopub.status.idle": "2023-07-20T19:56:22.094946Z",
     "shell.execute_reply": "2023-07-20T19:56:22.093849Z"
    },
    "id": "bdl6u-1upM0x",
    "outputId": "4f0ad780-5bc3-46df-b72f-2ff430452b65",
    "papermill": {
     "duration": 0.031864,
     "end_time": "2023-07-20T19:56:22.097393",
     "exception": false,
     "start_time": "2023-07-20T19:56:22.065529",
     "status": "completed"
    },
    "tags": []
   },
   "outputs": [
    {
     "data": {
      "text/plain": [
       "Screw\n",
       "A        42\n",
       "B        35\n",
       "C        31\n",
       "D        30\n",
       "E        29\n",
       "dtype: int64"
      ]
     },
     "execution_count": 9,
     "metadata": {},
     "output_type": "execute_result"
    }
   ],
   "source": [
    "df[['Screw']].value_counts()"
   ]
  },
  {
   "cell_type": "code",
   "execution_count": 10,
   "id": "9a5e313d",
   "metadata": {
    "execution": {
     "iopub.execute_input": "2023-07-20T19:56:22.131641Z",
     "iopub.status.busy": "2023-07-20T19:56:22.131199Z",
     "iopub.status.idle": "2023-07-20T19:56:22.136995Z",
     "shell.execute_reply": "2023-07-20T19:56:22.135890Z"
    },
    "papermill": {
     "duration": 0.02611,
     "end_time": "2023-07-20T19:56:22.139573",
     "exception": false,
     "start_time": "2023-07-20T19:56:22.113463",
     "status": "completed"
    },
    "tags": []
   },
   "outputs": [],
   "source": [
    "numerical_features = df.select_dtypes(include = [np.number]).columns\n",
    "categorical_features = df.select_dtypes(include = [np.object]).columns"
   ]
  },
  {
   "cell_type": "code",
   "execution_count": 11,
   "id": "81ab656b",
   "metadata": {
    "execution": {
     "iopub.execute_input": "2023-07-20T19:56:22.174090Z",
     "iopub.status.busy": "2023-07-20T19:56:22.173378Z",
     "iopub.status.idle": "2023-07-20T19:56:22.180912Z",
     "shell.execute_reply": "2023-07-20T19:56:22.179787Z"
    },
    "papermill": {
     "duration": 0.02754,
     "end_time": "2023-07-20T19:56:22.183307",
     "exception": false,
     "start_time": "2023-07-20T19:56:22.155767",
     "status": "completed"
    },
    "tags": []
   },
   "outputs": [
    {
     "data": {
      "text/plain": [
       "Index(['Pgain', 'Vgain', 'Class'], dtype='object')"
      ]
     },
     "execution_count": 11,
     "metadata": {},
     "output_type": "execute_result"
    }
   ],
   "source": [
    "numerical_features"
   ]
  },
  {
   "cell_type": "code",
   "execution_count": 12,
   "id": "44c0b99c",
   "metadata": {
    "execution": {
     "iopub.execute_input": "2023-07-20T19:56:22.218792Z",
     "iopub.status.busy": "2023-07-20T19:56:22.218324Z",
     "iopub.status.idle": "2023-07-20T19:56:22.225666Z",
     "shell.execute_reply": "2023-07-20T19:56:22.224230Z"
    },
    "papermill": {
     "duration": 0.029016,
     "end_time": "2023-07-20T19:56:22.228458",
     "exception": false,
     "start_time": "2023-07-20T19:56:22.199442",
     "status": "completed"
    },
    "tags": []
   },
   "outputs": [
    {
     "data": {
      "text/plain": [
       "Index(['Motor', 'Screw'], dtype='object')"
      ]
     },
     "execution_count": 12,
     "metadata": {},
     "output_type": "execute_result"
    }
   ],
   "source": [
    "categorical_features"
   ]
  },
  {
   "cell_type": "markdown",
   "id": "201f1430",
   "metadata": {
    "papermill": {
     "duration": 0.016248,
     "end_time": "2023-07-20T19:56:22.261209",
     "exception": false,
     "start_time": "2023-07-20T19:56:22.244961",
     "status": "completed"
    },
    "tags": []
   },
   "source": [
    "# DATA VISUALIZATION"
   ]
  },
  {
   "cell_type": "markdown",
   "id": "cb5c097c",
   "metadata": {
    "papermill": {
     "duration": 0.016031,
     "end_time": "2023-07-20T19:56:22.293608",
     "exception": false,
     "start_time": "2023-07-20T19:56:22.277577",
     "status": "completed"
    },
    "tags": []
   },
   "source": [
    "## ∙ Heatmap Correlation"
   ]
  },
  {
   "cell_type": "code",
   "execution_count": 13,
   "id": "a8e53332",
   "metadata": {
    "execution": {
     "iopub.execute_input": "2023-07-20T19:56:22.327906Z",
     "iopub.status.busy": "2023-07-20T19:56:22.327444Z",
     "iopub.status.idle": "2023-07-20T19:56:22.739610Z",
     "shell.execute_reply": "2023-07-20T19:56:22.738143Z"
    },
    "papermill": {
     "duration": 0.432642,
     "end_time": "2023-07-20T19:56:22.742460",
     "exception": false,
     "start_time": "2023-07-20T19:56:22.309818",
     "status": "completed"
    },
    "tags": []
   },
   "outputs": [
    {
     "data": {
      "text/plain": [
       "<Axes: >"
      ]
     },
     "execution_count": 13,
     "metadata": {},
     "output_type": "execute_result"
    },
    {
     "data": {
      "image/png": "[encoded data removed]",
      "text/plain": [
       "<Figure size 640x480 with 2 Axes>"
      ]
     },
     "metadata": {},
     "output_type": "display_data"
    }
   ],
   "source": [
    "df.corr()\n",
    "#plotting the correlation\n",
    "plt.figure(1)\n",
    "sns.heatmap(df.corr(), annot = True)"
   ]
  },
  {
   "cell_type": "markdown",
   "id": "03e319f7",
   "metadata": {
    "papermill": {
     "duration": 0.016959,
     "end_time": "2023-07-20T19:56:22.776236",
     "exception": false,
     "start_time": "2023-07-20T19:56:22.759277",
     "status": "completed"
    },
    "tags": []
   },
   "source": [
    "## ∙ Univariate Analysis"
   ]
  },
  {
   "cell_type": "code",
   "execution_count": 14,
   "id": "5d44fdb0",
   "metadata": {
    "execution": {
     "iopub.execute_input": "2023-07-20T19:56:22.814018Z",
     "iopub.status.busy": "2023-07-20T19:56:22.813543Z",
     "iopub.status.idle": "2023-07-20T19:56:23.251808Z",
     "shell.execute_reply": "2023-07-20T19:56:23.250603Z"
    },
    "papermill": {
     "duration": 0.459976,
     "end_time": "2023-07-20T19:56:23.254285",
     "exception": false,
     "start_time": "2023-07-20T19:56:22.794309",
     "status": "completed"
    },
    "tags": []
   },
   "outputs": [
    {
     "data": {
      "text/plain": [
       "<seaborn.axisgrid.FacetGrid at 0x78977b050250>"
      ]
     },
     "execution_count": 14,
     "metadata": {},
     "output_type": "execute_result"
    },
    {
     "data": {
      "image/png": "[encoded data removed]",
      "text/plain": [
       "<Figure size 500x500 with 1 Axes>"
      ]
     },
     "metadata": {},
     "output_type": "display_data"
    }
   ],
   "source": [
    "sns.displot(df.Motor)"
   ]
  },
  {
   "cell_type": "code",
   "execution_count": 15,
   "id": "21b2e9d6",
   "metadata": {
    "execution": {
     "iopub.execute_input": "2023-07-20T19:56:23.293444Z",
     "iopub.status.busy": "2023-07-20T19:56:23.292246Z",
     "iopub.status.idle": "2023-07-20T19:56:23.640837Z",
     "shell.execute_reply": "2023-07-20T19:56:23.639577Z"
    },
    "papermill": {
     "duration": 0.371127,
     "end_time": "2023-07-20T19:56:23.643743",
     "exception": false,
     "start_time": "2023-07-20T19:56:23.272616",
     "status": "completed"
    },
    "tags": []
   },
   "outputs": [
    {
     "data": {
      "text/plain": [
       "<Axes: xlabel='Vgain', ylabel='Density'>"
      ]
     },
     "execution_count": 15,
     "metadata": {},
     "output_type": "execute_result"
    },
    {
     "data": {
      "image/png": "[encoded data removed]",
      "text/plain": [
       "<Figure size 640x480 with 1 Axes>"
      ]
     },
     "metadata": {},
     "output_type": "display_data"
    }
   ],
   "source": [
    "sns.distplot(df['Vgain'])"
   ]
  },
  {
   "cell_type": "code",
   "execution_count": 16,
   "id": "2d3aea4d",
   "metadata": {
    "execution": {
     "iopub.execute_input": "2023-07-20T19:56:23.683224Z",
     "iopub.status.busy": "2023-07-20T19:56:23.681998Z",
     "iopub.status.idle": "2023-07-20T19:56:24.017724Z",
     "shell.execute_reply": "2023-07-20T19:56:24.016233Z"
    },
    "papermill": {
     "duration": 0.358603,
     "end_time": "2023-07-20T19:56:24.020876",
     "exception": false,
     "start_time": "2023-07-20T19:56:23.662273",
     "status": "completed"
    },
    "tags": []
   },
   "outputs": [
    {
     "data": {
      "text/plain": [
       "<Axes: ylabel='Pgain'>"
      ]
     },
     "execution_count": 16,
     "metadata": {},
     "output_type": "execute_result"
    },
    {
     "data": {
      "image/png": "[encoded data removed]",
      "text/plain": [
       "<Figure size 640x480 with 1 Axes>"
      ]
     },
     "metadata": {},
     "output_type": "display_data"
    }
   ],
   "source": [
    "sns.scatterplot(df.Pgain)"
   ]
  },
  {
   "cell_type": "markdown",
   "id": "c9b4e4a1",
   "metadata": {
    "papermill": {
     "duration": 0.018687,
     "end_time": "2023-07-20T19:56:24.059057",
     "exception": false,
     "start_time": "2023-07-20T19:56:24.040370",
     "status": "completed"
    },
    "tags": []
   },
   "source": [
    "## ∙ Multivariate Analysis"
   ]
  },
  {
   "cell_type": "code",
   "execution_count": 17,
   "id": "b0979415",
   "metadata": {
    "execution": {
     "iopub.execute_input": "2023-07-20T19:56:24.099494Z",
     "iopub.status.busy": "2023-07-20T19:56:24.098219Z",
     "iopub.status.idle": "2023-07-20T19:56:27.070361Z",
     "shell.execute_reply": "2023-07-20T19:56:27.069240Z"
    },
    "papermill": {
     "duration": 2.995074,
     "end_time": "2023-07-20T19:56:27.072897",
     "exception": false,
     "start_time": "2023-07-20T19:56:24.077823",
     "status": "completed"
    },
    "tags": []
   },
   "outputs": [
    {
     "data": {
      "text/html": [
       "        <script type=\"text/javascript\">\n",
       "        window.PlotlyConfig = {MathJaxConfig: 'local'};\n",
       "        if (window.MathJax && window.MathJax.Hub && window.MathJax.Hub.Config) {window.MathJax.Hub.Config({SVG: {font: \"STIX-Web\"}});}\n",
       "        if (typeof require !== 'undefined') {\n",
       "        require.undef(\"plotly\");\n",
       "        requirejs.config({\n",
       "            paths: {\n",
       "                'plotly': ['https://cdn.plot.ly/plotly-2.20.0.min']\n",
       "            }\n",
       "        });\n",
       "        require(['plotly'], function(Plotly) {\n",
       "            window._Plotly = Plotly;\n",
       "        });\n",
       "        }\n",
       "        </script>\n",
       "        "
      ]
     },
     "metadata": {},
     "output_type": "display_data"
    },
    {
     "data": {
      "text/html": [
       "<div>                            <div id=\"8015ec48-84d8-4a32-8e3d-9d26c9fecd76\" class=\"plotly-graph-div\" style=\"height:525px; width:100%;\"></div>            <script type=\"text/javascript\">                require([\"plotly\"], function(Plotly) {                    window.PLOTLYENV=window.PLOTLYENV || {};                                    if (document.getElementById(\"8015ec48-84d8-4a32-8e3d-9d26c9fecd76\")) {                    Plotly.newPlot(                        \"8015ec48-84d8-4a32-8e3d-9d26c9fecd76\",                        [{\"hovertemplate\":\"Motor=%{x}<br>Vgain=%{y}<br>Screw=%{z}<br>Pgain=%{marker.color}<extra></extra>\",\"legendgroup\":\"\",\"marker\":{\"color\":[5,6,4,3,6,4,3,3,6,4,6,5,4,3,5,3,3,5,5,4,4,4,6,4,6,6,3,4,3,3,4,3,4,6,6,3,3,4,6,4,4,4,4,4,5,4,4,4,3,3,6,3,3,5,4,4,4,4,3,4,4,5,5,6,4,4,3,3,5,4,6,4,5,6,4,5,4,3,3,3,3,6,5,5,6,5,4,4,5,4,5,4,4,6,4,6,3,4,3,4,4,3,3,5,4,4,4,3,6,3,5,4,6,4,4,4,4,6,4,3,4,4,5,3,3,4,3,5,5,3,5,4,6,4,4,6,4,5,4,3,4,4,3,4,3,3,3,3,3,4,5,3,3,3,4,3,4,3,4,5,3,6,3,3,4,3,6],\"coloraxis\":\"coloraxis\",\"symbol\":\"circle\"},\"mode\":\"markers\",\"name\":\"\",\"scene\":\"scene\",\"showlegend\":false,\"x\":[\"E\",\"B\",\"D\",\"B\",\"D\",\"E\",\"C\",\"A\",\"C\",\"D\",\"B\",\"E\",\"B\",\"E\",\"C\",\"E\",\"D\",\"B\",\"B\",\"C\",\"E\",\"A\",\"B\",\"A\",\"A\",\"E\",\"A\",\"A\",\"C\",\"B\",\"B\",\"B\",\"C\",\"C\",\"C\",\"E\",\"D\",\"E\",\"C\",\"C\",\"D\",\"C\",\"C\",\"B\",\"B\",\"A\",\"B\",\"E\",\"C\",\"D\",\"D\",\"C\",\"B\",\"C\",\"B\",\"A\",\"A\",\"B\",\"E\",\"B\",\"E\",\"E\",\"E\",\"C\",\"D\",\"C\",\"D\",\"D\",\"C\",\"B\",\"B\",\"D\",\"C\",\"A\",\"A\",\"A\",\"E\",\"B\",\"A\",\"E\",\"E\",\"A\",\"C\",\"C\",\"E\",\"B\",\"E\",\"B\",\"B\",\"C\",\"A\",\"C\",\"A\",\"C\",\"A\",\"A\",\"E\",\"C\",\"B\",\"B\",\"B\",\"A\",\"B\",\"D\",\"C\",\"C\",\"E\",\"D\",\"E\",\"D\",\"A\",\"C\",\"C\",\"B\",\"E\",\"A\",\"A\",\"E\",\"E\",\"C\",\"B\",\"C\",\"C\",\"C\",\"C\",\"C\",\"C\",\"D\",\"A\",\"C\",\"E\",\"D\",\"E\",\"D\",\"A\",\"B\",\"A\",\"A\",\"B\",\"C\",\"E\",\"B\",\"A\",\"A\",\"A\",\"E\",\"B\",\"D\",\"A\",\"E\",\"B\",\"E\",\"D\",\"E\",\"A\",\"A\",\"E\",\"A\",\"D\",\"A\",\"D\",\"C\",\"B\",\"B\",\"C\",\"A\",\"A\"],\"y\":[4,5,3,2,5,3,2,2,5,1,5,4,1,1,4,2,1,4,4,2,3,3,5,2,5,5,1,2,2,2,2,1,1,2,5,2,1,2,5,1,1,3,3,1,3,3,1,2,2,1,5,2,2,4,2,3,2,3,2,3,2,4,4,1,3,2,2,2,2,2,5,2,4,5,1,4,1,1,2,2,1,5,4,4,5,4,3,2,4,2,3,3,3,3,1,5,1,1,2,3,2,2,1,4,1,2,1,1,5,1,4,1,5,3,3,1,3,5,2,1,1,2,1,1,1,3,1,4,4,2,4,3,5,2,2,5,1,4,1,1,2,3,1,2,1,2,1,2,2,1,4,1,2,1,1,1,3,1,3,4,2,5,2,1,3,2,5],\"z\":[\"E\",\"D\",\"D\",\"A\",\"B\",\"C\",\"A\",\"A\",\"A\",\"A\",\"E\",\"C\",\"C\",\"C\",\"C\",\"B\",\"C\",\"C\",\"B\",\"E\",\"D\",\"D\",\"C\",\"C\",\"B\",\"C\",\"A\",\"E\",\"D\",\"B\",\"E\",\"C\",\"E\",\"A\",\"C\",\"E\",\"E\",\"C\",\"B\",\"D\",\"B\",\"B\",\"C\",\"D\",\"A\",\"B\",\"A\",\"D\",\"E\",\"D\",\"A\",\"B\",\"E\",\"D\",\"B\",\"E\",\"A\",\"D\",\"A\",\"C\",\"B\",\"A\",\"B\",\"A\",\"A\",\"B\",\"B\",\"C\",\"A\",\"D\",\"A\",\"A\",\"B\",\"E\",\"C\",\"E\",\"C\",\"B\",\"D\",\"D\",\"A\",\"C\",\"E\",\"A\",\"A\",\"E\",\"E\",\"A\",\"D\",\"C\",\"A\",\"E\",\"A\",\"A\",\"E\",\"D\",\"D\",\"B\",\"D\",\"B\",\"C\",\"E\",\"D\",\"B\",\"C\",\"D\",\"B\",\"B\",\"B\",\"A\",\"D\",\"A\",\"D\",\"A\",\"A\",\"A\",\"C\",\"D\",\"A\",\"D\",\"B\",\"A\",\"A\",\"E\",\"A\",\"A\",\"C\",\"A\",\"B\",\"C\",\"D\",\"C\",\"E\",\"B\",\"D\",\"B\",\"B\",\"C\",\"E\",\"B\",\"E\",\"E\",\"E\",\"B\",\"C\",\"C\",\"A\",\"D\",\"C\",\"A\",\"A\",\"E\",\"E\",\"B\",\"D\",\"D\",\"B\",\"B\",\"B\",\"A\",\"A\",\"E\",\"C\",\"E\",\"D\",\"B\",\"A\"],\"type\":\"scatter3d\"}],                        {\"template\":{\"data\":{\"histogram2dcontour\":[{\"type\":\"histogram2dcontour\",\"colorbar\":{\"outlinewidth\":0,\"ticks\":\"\"},\"colorscale\":[[0.0,\"#0d0887\"],[0.1111111111111111,\"#46039f\"],[0.2222222222222222,\"#7201a8\"],[0.3333333333333333,\"#9c179e\"],[0.4444444444444444,\"#bd3786\"],[0.5555555555555556,\"#d8576b\"],[0.6666666666666666,\"#ed7953\"],[0.7777777777777778,\"#fb9f3a\"],[0.8888888888888888,\"#fdca26\"],[1.0,\"#f0f921\"]]}],\"choropleth\":[{\"type\":\"choropleth\",\"colorbar\":{\"outlinewidth\":0,\"ticks\":\"\"}}],\"histogram2d\":[{\"type\":\"histogram2d\",\"colorbar\":{\"outlinewidth\":0,\"ticks\":\"\"},\"colorscale\":[[0.0,\"#0d0887\"],[0.1111111111111111,\"#46039f\"],[0.2222222222222222,\"#7201a8\"],[0.3333333333333333,\"#9c179e\"],[0.4444444444444444,\"#bd3786\"],[0.5555555555555556,\"#d8576b\"],[0.6666666666666666,\"#ed7953\"],[0.7777777777777778,\"#fb9f3a\"],[0.8888888888888888,\"#fdca26\"],[1.0,\"#f0f921\"]]}],\"heatmap\":[{\"type\":\"heatmap\",\"colorbar\":{\"outlinewidth\":0,\"ticks\":\"\"},\"colorscale\":[[0.0,\"#0d0887\"],[0.1111111111111111,\"#46039f\"],[0.2222222222222222,\"#7201a8\"],[0.3333333333333333,\"#9c179e\"],[0.4444444444444444,\"#bd3786\"],[0.5555555555555556,\"#d8576b\"],[0.6666666666666666,\"#ed7953\"],[0.7777777777777778,\"#fb9f3a\"],[0.8888888888888888,\"#fdca26\"],[1.0,\"#f0f921\"]]}],\"heatmapgl\":[{\"type\":\"heatmapgl\",\"colorbar\":{\"outlinewidth\":0,\"ticks\":\"\"},\"colorscale\":[[0.0,\"#0d0887\"],[0.1111111111111111,\"#46039f\"],[0.2222222222222222,\"#7201a8\"],[0.3333333333333333,\"#9c179e\"],[0.4444444444444444,\"#bd3786\"],[0.5555555555555556,\"#d8576b\"],[0.6666666666666666,\"#ed7953\"],[0.7777777777777778,\"#fb9f3a\"],[0.8888888888888888,\"#fdca26\"],[1.0,\"#f0f921\"]]}],\"contourcarpet\":[{\"type\":\"contourcarpet\",\"colorbar\":{\"outlinewidth\":0,\"ticks\":\"\"}}],\"contour\":[{\"type\":\"contour\",\"colorbar\":{\"outlinewidth\":0,\"ticks\":\"\"},\"colorscale\":[[0.0,\"#0d0887\"],[0.1111111111111111,\"#46039f\"],[0.2222222222222222,\"#7201a8\"],[0.3333333333333333,\"#9c179e\"],[0.4444444444444444,\"#bd3786\"],[0.5555555555555556,\"#d8576b\"],[0.6666666666666666,\"#ed7953\"],[0.7777777777777778,\"#fb9f3a\"],[0.8888888888888888,\"#fdca26\"],[1.0,\"#f0f921\"]]}],\"surface\":[{\"type\":\"surface\",\"colorbar\":{\"outlinewidth\":0,\"ticks\":\"\"},\"colorscale\":[[0.0,\"#0d0887\"],[0.1111111111111111,\"#46039f\"],[0.2222222222222222,\"#7201a8\"],[0.3333333333333333,\"#9c179e\"],[0.4444444444444444,\"#bd3786\"],[0.5555555555555556,\"#d8576b\"],[0.6666666666666666,\"#ed7953\"],[0.7777777777777778,\"#fb9f3a\"],[0.8888888888888888,\"#fdca26\"],[1.0,\"#f0f921\"]]}],\"mesh3d\":[{\"type\":\"mesh3d\",\"colorbar\":{\"outlinewidth\":0,\"ticks\":\"\"}}],\"scatter\":[{\"fillpattern\":{\"fillmode\":\"overlay\",\"size\":10,\"solidity\":0.2},\"type\":\"scatter\"}],\"parcoords\":[{\"type\":\"parcoords\",\"line\":{\"colorbar\":{\"outlinewidth\":0,\"ticks\":\"\"}}}],\"scatterpolargl\":[{\"type\":\"scatterpolargl\",\"marker\":{\"colorbar\":{\"outlinewidth\":0,\"ticks\":\"\"}}}],\"bar\":[{\"error_x\":{\"color\":\"#2a3f5f\"},\"error_y\":{\"color\":\"#2a3f5f\"},\"marker\":{\"line\":{\"color\":\"#E5ECF6\",\"width\":0.5},\"pattern\":{\"fillmode\":\"overlay\",\"size\":10,\"solidity\":0.2}},\"type\":\"bar\"}],\"scattergeo\":[{\"type\":\"scattergeo\",\"marker\":{\"colorbar\":{\"outlinewidth\":0,\"ticks\":\"\"}}}],\"scatterpolar\":[{\"type\":\"scatterpolar\",\"marker\":{\"colorbar\":{\"outlinewidth\":0,\"ticks\":\"\"}}}],\"histogram\":[{\"marker\":{\"pattern\":{\"fillmode\":\"overlay\",\"size\":10,\"solidity\":0.2}},\"type\":\"histogram\"}],\"scattergl\":[{\"type\":\"scattergl\",\"marker\":{\"colorbar\":{\"outlinewidth\":0,\"ticks\":\"\"}}}],\"scatter3d\":[{\"type\":\"scatter3d\",\"line\":{\"colorbar\":{\"outlinewidth\":0,\"ticks\":\"\"}},\"marker\":{\"colorbar\":{\"outlinewidth\":0,\"ticks\":\"\"}}}],\"scattermapbox\":[{\"type\":\"scattermapbox\",\"marker\":{\"colorbar\":{\"outlinewidth\":0,\"ticks\":\"\"}}}],\"scatterternary\":[{\"type\":\"scatterternary\",\"marker\":{\"colorbar\":{\"outlinewidth\":0,\"ticks\":\"\"}}}],\"scattercarpet\":[{\"type\":\"scattercarpet\",\"marker\":{\"colorbar\":{\"outlinewidth\":0,\"ticks\":\"\"}}}],\"carpet\":[{\"aaxis\":{\"endlinecolor\":\"#2a3f5f\",\"gridcolor\":\"white\",\"linecolor\":\"white\",\"minorgridcolor\":\"white\",\"startlinecolor\":\"#2a3f5f\"},\"baxis\":{\"endlinecolor\":\"#2a3f5f\",\"gridcolor\":\"white\",\"linecolor\":\"white\",\"minorgridcolor\":\"white\",\"startlinecolor\":\"#2a3f5f\"},\"type\":\"carpet\"}],\"table\":[{\"cells\":{\"fill\":{\"color\":\"#EBF0F8\"},\"line\":{\"color\":\"white\"}},\"header\":{\"fill\":{\"color\":\"#C8D4E3\"},\"line\":{\"color\":\"white\"}},\"type\":\"table\"}],\"barpolar\":[{\"marker\":{\"line\":{\"color\":\"#E5ECF6\",\"width\":0.5},\"pattern\":{\"fillmode\":\"overlay\",\"size\":10,\"solidity\":0.2}},\"type\":\"barpolar\"}],\"pie\":[{\"automargin\":true,\"type\":\"pie\"}]},\"layout\":{\"autotypenumbers\":\"strict\",\"colorway\":[\"#636efa\",\"#EF553B\",\"#00cc96\",\"#ab63fa\",\"#FFA15A\",\"#19d3f3\",\"#FF6692\",\"#B6E880\",\"#FF97FF\",\"#FECB52\"],\"font\":{\"color\":\"#2a3f5f\"},\"hovermode\":\"closest\",\"hoverlabel\":{\"align\":\"left\"},\"paper_bgcolor\":\"white\",\"plot_bgcolor\":\"#E5ECF6\",\"polar\":{\"bgcolor\":\"#E5ECF6\",\"angularaxis\":{\"gridcolor\":\"white\",\"linecolor\":\"white\",\"ticks\":\"\"},\"radialaxis\":{\"gridcolor\":\"white\",\"linecolor\":\"white\",\"ticks\":\"\"}},\"ternary\":{\"bgcolor\":\"#E5ECF6\",\"aaxis\":{\"gridcolor\":\"white\",\"linecolor\":\"white\",\"ticks\":\"\"},\"baxis\":{\"gridcolor\":\"white\",\"linecolor\":\"white\",\"ticks\":\"\"},\"caxis\":{\"gridcolor\":\"white\",\"linecolor\":\"white\",\"ticks\":\"\"}},\"coloraxis\":{\"colorbar\":{\"outlinewidth\":0,\"ticks\":\"\"}},\"colorscale\":{\"sequential\":[[0.0,\"#0d0887\"],[0.1111111111111111,\"#46039f\"],[0.2222222222222222,\"#7201a8\"],[0.3333333333333333,\"#9c179e\"],[0.4444444444444444,\"#bd3786\"],[0.5555555555555556,\"#d8576b\"],[0.6666666666666666,\"#ed7953\"],[0.7777777777777778,\"#fb9f3a\"],[0.8888888888888888,\"#fdca26\"],[1.0,\"#f0f921\"]],\"sequentialminus\":[[0.0,\"#0d0887\"],[0.1111111111111111,\"#46039f\"],[0.2222222222222222,\"#7201a8\"],[0.3333333333333333,\"#9c179e\"],[0.4444444444444444,\"#bd3786\"],[0.5555555555555556,\"#d8576b\"],[0.6666666666666666,\"#ed7953\"],[0.7777777777777778,\"#fb9f3a\"],[0.8888888888888888,\"#fdca26\"],[1.0,\"#f0f921\"]],\"diverging\":[[0,\"#8e0152\"],[0.1,\"#c51b7d\"],[0.2,\"#de77ae\"],[0.3,\"#f1b6da\"],[0.4,\"#fde0ef\"],[0.5,\"#f7f7f7\"],[0.6,\"#e6f5d0\"],[0.7,\"#b8e186\"],[0.8,\"#7fbc41\"],[0.9,\"#4d9221\"],[1,\"#276419\"]]},\"xaxis\":{\"gridcolor\":\"white\",\"linecolor\":\"white\",\"ticks\":\"\",\"title\":{\"standoff\":15},\"zerolinecolor\":\"white\",\"automargin\":true,\"zerolinewidth\":2},\"yaxis\":{\"gridcolor\":\"white\",\"linecolor\":\"white\",\"ticks\":\"\",\"title\":{\"standoff\":15},\"zerolinecolor\":\"white\",\"automargin\":true,\"zerolinewidth\":2},\"scene\":{\"xaxis\":{\"backgroundcolor\":\"#E5ECF6\",\"gridcolor\":\"white\",\"linecolor\":\"white\",\"showbackground\":true,\"ticks\":\"\",\"zerolinecolor\":\"white\",\"gridwidth\":2},\"yaxis\":{\"backgroundcolor\":\"#E5ECF6\",\"gridcolor\":\"white\",\"linecolor\":\"white\",\"showbackground\":true,\"ticks\":\"\",\"zerolinecolor\":\"white\",\"gridwidth\":2},\"zaxis\":{\"backgroundcolor\":\"#E5ECF6\",\"gridcolor\":\"white\",\"linecolor\":\"white\",\"showbackground\":true,\"ticks\":\"\",\"zerolinecolor\":\"white\",\"gridwidth\":2}},\"shapedefaults\":{\"line\":{\"color\":\"#2a3f5f\"}},\"annotationdefaults\":{\"arrowcolor\":\"#2a3f5f\",\"arrowhead\":0,\"arrowwidth\":1},\"geo\":{\"bgcolor\":\"white\",\"landcolor\":\"#E5ECF6\",\"subunitcolor\":\"white\",\"showland\":true,\"showlakes\":true,\"lakecolor\":\"white\"},\"title\":{\"x\":0.05},\"mapbox\":{\"style\":\"light\"}}},\"scene\":{\"domain\":{\"x\":[0.0,1.0],\"y\":[0.0,1.0]},\"xaxis\":{\"title\":{\"text\":\"Motor\"}},\"yaxis\":{\"title\":{\"text\":\"Vgain\"}},\"zaxis\":{\"title\":{\"text\":\"Screw\"}}},\"coloraxis\":{\"colorbar\":{\"title\":{\"text\":\"Pgain\"}},\"colorscale\":[[0.0,\"#0d0887\"],[0.1111111111111111,\"#46039f\"],[0.2222222222222222,\"#7201a8\"],[0.3333333333333333,\"#9c179e\"],[0.4444444444444444,\"#bd3786\"],[0.5555555555555556,\"#d8576b\"],[0.6666666666666666,\"#ed7953\"],[0.7777777777777778,\"#fb9f3a\"],[0.8888888888888888,\"#fdca26\"],[1.0,\"#f0f921\"]]},\"legend\":{\"tracegroupgap\":0},\"margin\":{\"t\":60}},                        {\"responsive\": true}                    ).then(function(){\n",
       "                            \n",
       "var gd = document.getElementById('8015ec48-84d8-4a32-8e3d-9d26c9fecd76');\n",
       "var x = new MutationObserver(function (mutations, observer) {{\n",
       "        var display = window.getComputedStyle(gd).display;\n",
       "        if (!display || display === 'none') {{\n",
       "            console.log([gd, 'removed!']);\n",
       "            Plotly.purge(gd);\n",
       "            observer.disconnect();\n",
       "        }}\n",
       "}});\n",
       "\n",
       "// Listen for the removal of the full notebook cells\n",
       "var notebookContainer = gd.closest('#notebook-container');\n",
       "if (notebookContainer) {{\n",
       "    x.observe(notebookContainer, {childList: true});\n",
       "}}\n",
       "\n",
       "// Listen for the clearing of the current output cell\n",
       "var outputEl = gd.closest('.output');\n",
       "if (outputEl) {{\n",
       "    x.observe(outputEl, {childList: true});\n",
       "}}\n",
       "\n",
       "                        })                };                });            </script>        </div>"
      ]
     },
     "metadata": {},
     "output_type": "display_data"
    },
    {
     "data": {
      "text/plain": [
       "<Figure size 640x480 with 0 Axes>"
      ]
     },
     "metadata": {},
     "output_type": "display_data"
    }
   ],
   "source": [
    "plt.figure()\n",
    "\n",
    "import plotly.express as px\n",
    "\n",
    "fig = px.scatter_3d(df, x='Motor', y='Vgain', z='Screw',#hue='Pgain')\n",
    "\n",
    "color='Pgain')\n",
    "\n",
    "fig.show()"
   ]
  },
  {
   "cell_type": "markdown",
   "id": "175ce49a",
   "metadata": {
    "papermill": {
     "duration": 0.018641,
     "end_time": "2023-07-20T19:56:27.110787",
     "exception": false,
     "start_time": "2023-07-20T19:56:27.092146",
     "status": "completed"
    },
    "tags": []
   },
   "source": [
    "## ∙ Histogram Analysis"
   ]
  },
  {
   "cell_type": "code",
   "execution_count": 18,
   "id": "1492cfe5",
   "metadata": {
    "execution": {
     "iopub.execute_input": "2023-07-20T19:56:27.151058Z",
     "iopub.status.busy": "2023-07-20T19:56:27.150604Z",
     "iopub.status.idle": "2023-07-20T19:56:28.123048Z",
     "shell.execute_reply": "2023-07-20T19:56:28.119574Z"
    },
    "papermill": {
     "duration": 0.996733,
     "end_time": "2023-07-20T19:56:28.126632",
     "exception": false,
     "start_time": "2023-07-20T19:56:27.129899",
     "status": "completed"
    },
    "tags": []
   },
   "outputs": [
    {
     "data": {
      "text/plain": [
       "array([[<Axes: title={'center': 'Pgain'}>,\n",
       "        <Axes: title={'center': 'Vgain'}>],\n",
       "       [<Axes: title={'center': 'Class'}>, <Axes: >]], dtype=object)"
      ]
     },
     "execution_count": 18,
     "metadata": {},
     "output_type": "execute_result"
    },
    {
     "data": {
      "image/png": "[encoded data removed]",
      "text/plain": [
       "<Figure size 800x800 with 4 Axes>"
      ]
     },
     "metadata": {},
     "output_type": "display_data"
    }
   ],
   "source": [
    "df.hist(figsize=(8,8))"
   ]
  },
  {
   "cell_type": "markdown",
   "id": "926d9a74",
   "metadata": {
    "papermill": {
     "duration": 0.019493,
     "end_time": "2023-07-20T19:56:28.169987",
     "exception": false,
     "start_time": "2023-07-20T19:56:28.150494",
     "status": "completed"
    },
    "tags": []
   },
   "source": [
    "## ∙ Pairplot Analysis"
   ]
  },
  {
   "cell_type": "code",
   "execution_count": 19,
   "id": "ae9bdd18",
   "metadata": {
    "execution": {
     "iopub.execute_input": "2023-07-20T19:56:28.211831Z",
     "iopub.status.busy": "2023-07-20T19:56:28.211410Z",
     "iopub.status.idle": "2023-07-20T19:56:33.062753Z",
     "shell.execute_reply": "2023-07-20T19:56:33.061868Z"
    },
    "papermill": {
     "duration": 4.875573,
     "end_time": "2023-07-20T19:56:33.065462",
     "exception": false,
     "start_time": "2023-07-20T19:56:28.189889",
     "status": "completed"
    },
    "tags": []
   },
   "outputs": [
    {
     "data": {
      "text/plain": [
       "<seaborn.axisgrid.PairGrid at 0x789778c978e0>"
      ]
     },
     "execution_count": 19,
     "metadata": {},
     "output_type": "execute_result"
    },
    {
     "data": {
      "image/png": "[encoded data removed]",
      "text/plain": [
       "<Figure size 660.75x600 with 12 Axes>"
      ]
     },
     "metadata": {},
     "output_type": "display_data"
    }
   ],
   "source": [
    "sns.pairplot(df,hue='Screw',size=2)"
   ]
  },
  {
   "cell_type": "markdown",
   "id": "da474702",
   "metadata": {
    "id": "b1-E0RKZhSe5",
    "papermill": {
     "duration": 0.021285,
     "end_time": "2023-07-20T19:56:33.108860",
     "exception": false,
     "start_time": "2023-07-20T19:56:33.087575",
     "status": "completed"
    },
    "tags": []
   },
   "source": [
    "# DATA PREPROCESSING"
   ]
  },
  {
   "cell_type": "code",
   "execution_count": 20,
   "id": "78905556",
   "metadata": {
    "execution": {
     "iopub.execute_input": "2023-07-20T19:56:33.154247Z",
     "iopub.status.busy": "2023-07-20T19:56:33.153789Z",
     "iopub.status.idle": "2023-07-20T19:56:33.164544Z",
     "shell.execute_reply": "2023-07-20T19:56:33.163678Z"
    },
    "id": "w4ZQPlSbpYPm",
    "papermill": {
     "duration": 0.035971,
     "end_time": "2023-07-20T19:56:33.166761",
     "exception": false,
     "start_time": "2023-07-20T19:56:33.130790",
     "status": "completed"
    },
    "tags": []
   },
   "outputs": [],
   "source": [
    "df.replace({'Motor':{'A':0,'B':1,'C':2,'D':3,'E':4}}, inplace=True)\n",
    "df.replace({'Screw':{'A':0,'B':1,'C':2,'D':3,'E':4}}, inplace=True)"
   ]
  },
  {
   "cell_type": "code",
   "execution_count": 21,
   "id": "09c36ffb",
   "metadata": {
    "execution": {
     "iopub.execute_input": "2023-07-20T19:56:33.212011Z",
     "iopub.status.busy": "2023-07-20T19:56:33.211525Z",
     "iopub.status.idle": "2023-07-20T19:56:33.223292Z",
     "shell.execute_reply": "2023-07-20T19:56:33.222221Z"
    },
    "papermill": {
     "duration": 0.037101,
     "end_time": "2023-07-20T19:56:33.225592",
     "exception": false,
     "start_time": "2023-07-20T19:56:33.188491",
     "status": "completed"
    },
    "tags": []
   },
   "outputs": [
    {
     "data": {
      "text/html": [
       "<div>\n",
       "<style scoped>\n",
       "    .dataframe tbody tr th:only-of-type {\n",
       "        vertical-align: middle;\n",
       "    }\n",
       "\n",
       "    .dataframe tbody tr th {\n",
       "        vertical-align: top;\n",
       "    }\n",
       "\n",
       "    .dataframe thead th {\n",
       "        text-align: right;\n",
       "    }\n",
       "</style>\n",
       "<table border=\"1\" class=\"dataframe\">\n",
       "  <thead>\n",
       "    <tr style=\"text-align: right;\">\n",
       "      <th></th>\n",
       "      <th>Motor</th>\n",
       "      <th>Screw</th>\n",
       "      <th>Pgain</th>\n",
       "      <th>Vgain</th>\n",
       "      <th>Class</th>\n",
       "    </tr>\n",
       "  </thead>\n",
       "  <tbody>\n",
       "    <tr>\n",
       "      <th>0</th>\n",
       "      <td>4</td>\n",
       "      <td>4</td>\n",
       "      <td>5</td>\n",
       "      <td>4</td>\n",
       "      <td>4</td>\n",
       "    </tr>\n",
       "    <tr>\n",
       "      <th>1</th>\n",
       "      <td>1</td>\n",
       "      <td>3</td>\n",
       "      <td>6</td>\n",
       "      <td>5</td>\n",
       "      <td>11</td>\n",
       "    </tr>\n",
       "    <tr>\n",
       "      <th>2</th>\n",
       "      <td>3</td>\n",
       "      <td>3</td>\n",
       "      <td>4</td>\n",
       "      <td>3</td>\n",
       "      <td>6</td>\n",
       "    </tr>\n",
       "    <tr>\n",
       "      <th>3</th>\n",
       "      <td>1</td>\n",
       "      <td>0</td>\n",
       "      <td>3</td>\n",
       "      <td>2</td>\n",
       "      <td>48</td>\n",
       "    </tr>\n",
       "    <tr>\n",
       "      <th>4</th>\n",
       "      <td>3</td>\n",
       "      <td>1</td>\n",
       "      <td>6</td>\n",
       "      <td>5</td>\n",
       "      <td>6</td>\n",
       "    </tr>\n",
       "  </tbody>\n",
       "</table>\n",
       "</div>"
      ],
      "text/plain": [
       "   Motor  Screw  Pgain  Vgain  Class\n",
       "0      4      4      5      4      4\n",
       "1      1      3      6      5     11\n",
       "2      3      3      4      3      6\n",
       "3      1      0      3      2     48\n",
       "4      3      1      6      5      6"
      ]
     },
     "execution_count": 21,
     "metadata": {},
     "output_type": "execute_result"
    }
   ],
   "source": [
    "df.head()"
   ]
  },
  {
   "cell_type": "markdown",
   "id": "60bf99d2",
   "metadata": {
    "id": "iWZrbHGThZIB",
    "papermill": {
     "duration": 0.021597,
     "end_time": "2023-07-20T19:56:33.269258",
     "exception": false,
     "start_time": "2023-07-20T19:56:33.247661",
     "status": "completed"
    },
    "tags": []
   },
   "source": [
    "# Define Target Variable (y) and Feature Variables (X)"
   ]
  },
  {
   "cell_type": "code",
   "execution_count": 22,
   "id": "031010ac",
   "metadata": {
    "execution": {
     "iopub.execute_input": "2023-07-20T19:56:33.315602Z",
     "iopub.status.busy": "2023-07-20T19:56:33.314799Z",
     "iopub.status.idle": "2023-07-20T19:56:33.321187Z",
     "shell.execute_reply": "2023-07-20T19:56:33.320261Z"
    },
    "id": "uxjqIe4ap6Ld",
    "papermill": {
     "duration": 0.032257,
     "end_time": "2023-07-20T19:56:33.323622",
     "exception": false,
     "start_time": "2023-07-20T19:56:33.291365",
     "status": "completed"
    },
    "tags": []
   },
   "outputs": [],
   "source": [
    "y = df['Class']\n",
    "x = df[['Motor', 'Screw', 'Pgain', 'Vgain']]"
   ]
  },
  {
   "cell_type": "markdown",
   "id": "6fe5a29b",
   "metadata": {
    "id": "wzRDiaDvheim",
    "papermill": {
     "duration": 0.021337,
     "end_time": "2023-07-20T19:56:33.366874",
     "exception": false,
     "start_time": "2023-07-20T19:56:33.345537",
     "status": "completed"
    },
    "tags": []
   },
   "source": [
    "# TRAIN-TEST SPLIT"
   ]
  },
  {
   "cell_type": "code",
   "execution_count": 23,
   "id": "108eb67a",
   "metadata": {
    "execution": {
     "iopub.execute_input": "2023-07-20T19:56:33.413456Z",
     "iopub.status.busy": "2023-07-20T19:56:33.412318Z",
     "iopub.status.idle": "2023-07-20T19:56:33.420656Z",
     "shell.execute_reply": "2023-07-20T19:56:33.419325Z"
    },
    "id": "QEk3_k09qW5c",
    "papermill": {
     "duration": 0.034465,
     "end_time": "2023-07-20T19:56:33.423142",
     "exception": false,
     "start_time": "2023-07-20T19:56:33.388677",
     "status": "completed"
    },
    "tags": []
   },
   "outputs": [],
   "source": [
    "x_train,x_test,y_train,y_test = train_test_split(x,y,random_state=2529)"
   ]
  },
  {
   "cell_type": "code",
   "execution_count": 24,
   "id": "8e98929f",
   "metadata": {
    "execution": {
     "iopub.execute_input": "2023-07-20T19:56:33.470520Z",
     "iopub.status.busy": "2023-07-20T19:56:33.469230Z",
     "iopub.status.idle": "2023-07-20T19:56:33.476782Z",
     "shell.execute_reply": "2023-07-20T19:56:33.475763Z"
    },
    "id": "fvxaZyXaqicO",
    "outputId": "6f420d58-3e2c-45aa-8165-024bfe77699d",
    "papermill": {
     "duration": 0.033614,
     "end_time": "2023-07-20T19:56:33.479021",
     "exception": false,
     "start_time": "2023-07-20T19:56:33.445407",
     "status": "completed"
    },
    "tags": []
   },
   "outputs": [
    {
     "data": {
      "text/plain": [
       "((125, 4), (42, 4), (125,), (42,))"
      ]
     },
     "execution_count": 24,
     "metadata": {},
     "output_type": "execute_result"
    }
   ],
   "source": [
    "x_train.shape,x_test.shape,y_train.shape,y_test.shape"
   ]
  },
  {
   "cell_type": "markdown",
   "id": "147f2fbf",
   "metadata": {
    "id": "CAhfUF2OhiRF",
    "papermill": {
     "duration": 0.021964,
     "end_time": "2023-07-20T19:56:33.523542",
     "exception": false,
     "start_time": "2023-07-20T19:56:33.501578",
     "status": "completed"
    },
    "tags": []
   },
   "source": [
    "# MODELING"
   ]
  },
  {
   "cell_type": "code",
   "execution_count": 25,
   "id": "55228e84",
   "metadata": {
    "execution": {
     "iopub.execute_input": "2023-07-20T19:56:33.570596Z",
     "iopub.status.busy": "2023-07-20T19:56:33.569789Z",
     "iopub.status.idle": "2023-07-20T19:56:33.574459Z",
     "shell.execute_reply": "2023-07-20T19:56:33.573652Z"
    },
    "id": "ccvEmnzmqy_j",
    "papermill": {
     "duration": 0.030996,
     "end_time": "2023-07-20T19:56:33.576708",
     "exception": false,
     "start_time": "2023-07-20T19:56:33.545712",
     "status": "completed"
    },
    "tags": []
   },
   "outputs": [],
   "source": [
    "lr = LinearRegression()"
   ]
  },
  {
   "cell_type": "code",
   "execution_count": 26,
   "id": "073b48a7",
   "metadata": {
    "execution": {
     "iopub.execute_input": "2023-07-20T19:56:33.624095Z",
     "iopub.status.busy": "2023-07-20T19:56:33.623319Z",
     "iopub.status.idle": "2023-07-20T19:56:33.654971Z",
     "shell.execute_reply": "2023-07-20T19:56:33.653605Z"
    },
    "id": "w0SWnrTGq2HM",
    "outputId": "d9d9fd40-7e00-40e0-c34f-ce091919e2d4",
    "papermill": {
     "duration": 0.058435,
     "end_time": "2023-07-20T19:56:33.657727",
     "exception": false,
     "start_time": "2023-07-20T19:56:33.599292",
     "status": "completed"
    },
    "tags": []
   },
   "outputs": [
    {
     "data": {
      "text/html": [
       "<style>#sk-container-id-1 {color: black;background-color: white;}#sk-container-id-1 pre{padding: 0;}#sk-container-id-1 div.sk-toggleable {background-color: white;}#sk-container-id-1 label.sk-toggleable__label {cursor: pointer;display: block;width: 100%;margin-bottom: 0;padding: 0.3em;box-sizing: border-box;text-align: center;}#sk-container-id-1 label.sk-toggleable__label-arrow:before {content: \"▸\";float: left;margin-right: 0.25em;color: #696969;}#sk-container-id-1 label.sk-toggleable__label-arrow:hover:before {color: black;}#sk-container-id-1 div.sk-estimator:hover label.sk-toggleable__label-arrow:before {color: black;}#sk-container-id-1 div.sk-toggleable__content {max-height: 0;max-width: 0;overflow: hidden;text-align: left;background-color: #f0f8ff;}#sk-container-id-1 div.sk-toggleable__content pre {margin: 0.2em;color: black;border-radius: 0.25em;background-color: #f0f8ff;}#sk-container-id-1 input.sk-toggleable__control:checked~div.sk-toggleable__content {max-height: 200px;max-width: 100%;overflow: auto;}#sk-container-id-1 input.sk-toggleable__control:checked~label.sk-toggleable__label-arrow:before {content: \"▾\";}#sk-container-id-1 div.sk-estimator input.sk-toggleable__control:checked~label.sk-toggleable__label {background-color: #d4ebff;}#sk-container-id-1 div.sk-label input.sk-toggleable__control:checked~label.sk-toggleable__label {background-color: #d4ebff;}#sk-container-id-1 input.sk-hidden--visually {border: 0;clip: rect(1px 1px 1px 1px);clip: rect(1px, 1px, 1px, 1px);height: 1px;margin: -1px;overflow: hidden;padding: 0;position: absolute;width: 1px;}#sk-container-id-1 div.sk-estimator {font-family: monospace;background-color: #f0f8ff;border: 1px dotted black;border-radius: 0.25em;box-sizing: border-box;margin-bottom: 0.5em;}#sk-container-id-1 div.sk-estimator:hover {background-color: #d4ebff;}#sk-container-id-1 div.sk-parallel-item::after {content: \"\";width: 100%;border-bottom: 1px solid gray;flex-grow: 1;}#sk-container-id-1 div.sk-label:hover label.sk-toggleable__label {background-color: #d4ebff;}#sk-container-id-1 div.sk-serial::before {content: \"\";position: absolute;border-left: 1px solid gray;box-sizing: border-box;top: 0;bottom: 0;left: 50%;z-index: 0;}#sk-container-id-1 div.sk-serial {display: flex;flex-direction: column;align-items: center;background-color: white;padding-right: 0.2em;padding-left: 0.2em;position: relative;}#sk-container-id-1 div.sk-item {position: relative;z-index: 1;}#sk-container-id-1 div.sk-parallel {display: flex;align-items: stretch;justify-content: center;background-color: white;position: relative;}#sk-container-id-1 div.sk-item::before, #sk-container-id-1 div.sk-parallel-item::before {content: \"\";position: absolute;border-left: 1px solid gray;box-sizing: border-box;top: 0;bottom: 0;left: 50%;z-index: -1;}#sk-container-id-1 div.sk-parallel-item {display: flex;flex-direction: column;z-index: 1;position: relative;background-color: white;}#sk-container-id-1 div.sk-parallel-item:first-child::after {align-self: flex-end;width: 50%;}#sk-container-id-1 div.sk-parallel-item:last-child::after {align-self: flex-start;width: 50%;}#sk-container-id-1 div.sk-parallel-item:only-child::after {width: 0;}#sk-container-id-1 div.sk-dashed-wrapped {border: 1px dashed gray;margin: 0 0.4em 0.5em 0.4em;box-sizing: border-box;padding-bottom: 0.4em;background-color: white;}#sk-container-id-1 div.sk-label label {font-family: monospace;font-weight: bold;display: inline-block;line-height: 1.2em;}#sk-container-id-1 div.sk-label-container {text-align: center;}#sk-container-id-1 div.sk-container {/* jupyter's `normalize.less` sets `[hidden] { display: none; }` but bootstrap.min.css set `[hidden] { display: none !important; }` so we also need the `!important` here to be able to override the default hidden behavior on the sphinx rendered scikit-learn.org. See: https://github.com/scikit-learn/scikit-learn/issues/21755 */display: inline-block !important;position: relative;}#sk-container-id-1 div.sk-text-repr-fallback {display: none;}</style><div id=\"sk-container-id-1\" class=\"sk-top-container\"><div class=\"sk-text-repr-fallback\"><pre>LinearRegression()</pre><b>In a Jupyter environment, please rerun this cell to show the HTML representation or trust the notebook. <br />On GitHub, the HTML representation is unable to render, please try loading this page with nbviewer.org.</b></div><div class=\"sk-container\" hidden><div class=\"sk-item\"><div class=\"sk-estimator sk-toggleable\"><input class=\"sk-toggleable__control sk-hidden--visually\" id=\"sk-estimator-id-1\" type=\"checkbox\" checked><label for=\"sk-estimator-id-1\" class=\"sk-toggleable__label sk-toggleable__label-arrow\">LinearRegression</label><div class=\"sk-toggleable__content\"><pre>LinearRegression()</pre></div></div></div></div></div>"
      ],
      "text/plain": [
       "LinearRegression()"
      ]
     },
     "execution_count": 26,
     "metadata": {},
     "output_type": "execute_result"
    }
   ],
   "source": [
    "lr.fit(x_train,y_train)"
   ]
  },
  {
   "cell_type": "markdown",
   "id": "e7d5a31f",
   "metadata": {
    "id": "ZIBA9oRKhrCO",
    "papermill": {
     "duration": 0.022107,
     "end_time": "2023-07-20T19:56:33.703134",
     "exception": false,
     "start_time": "2023-07-20T19:56:33.681027",
     "status": "completed"
    },
    "tags": []
   },
   "source": [
    "# PREDICTION"
   ]
  },
  {
   "cell_type": "code",
   "execution_count": 27,
   "id": "57c381d0",
   "metadata": {
    "execution": {
     "iopub.execute_input": "2023-07-20T19:56:33.752323Z",
     "iopub.status.busy": "2023-07-20T19:56:33.750929Z",
     "iopub.status.idle": "2023-07-20T19:56:33.758468Z",
     "shell.execute_reply": "2023-07-20T19:56:33.757546Z"
    },
    "id": "dLNIXuHZq4wA",
    "papermill": {
     "duration": 0.035104,
     "end_time": "2023-07-20T19:56:33.760895",
     "exception": false,
     "start_time": "2023-07-20T19:56:33.725791",
     "status": "completed"
    },
    "tags": []
   },
   "outputs": [],
   "source": [
    "y_pred = lr.predict(x_test)"
   ]
  },
  {
   "cell_type": "code",
   "execution_count": 28,
   "id": "64eeb0fe",
   "metadata": {
    "execution": {
     "iopub.execute_input": "2023-07-20T19:56:33.811086Z",
     "iopub.status.busy": "2023-07-20T19:56:33.810617Z",
     "iopub.status.idle": "2023-07-20T19:56:33.817724Z",
     "shell.execute_reply": "2023-07-20T19:56:33.816840Z"
    },
    "id": "hwAk6kPArCUV",
    "outputId": "31eaa4ca-228c-4344-f80b-dc89fdcae1ba",
    "papermill": {
     "duration": 0.034114,
     "end_time": "2023-07-20T19:56:33.820022",
     "exception": false,
     "start_time": "2023-07-20T19:56:33.785908",
     "status": "completed"
    },
    "tags": []
   },
   "outputs": [
    {
     "data": {
      "text/plain": [
       "(42,)"
      ]
     },
     "execution_count": 28,
     "metadata": {},
     "output_type": "execute_result"
    }
   ],
   "source": [
    "y_pred.shape"
   ]
  },
  {
   "cell_type": "code",
   "execution_count": 29,
   "id": "c19fb29e",
   "metadata": {
    "execution": {
     "iopub.execute_input": "2023-07-20T19:56:33.868661Z",
     "iopub.status.busy": "2023-07-20T19:56:33.867859Z",
     "iopub.status.idle": "2023-07-20T19:56:33.874895Z",
     "shell.execute_reply": "2023-07-20T19:56:33.874107Z"
    },
    "id": "H4Ge1jeIrEUg",
    "outputId": "fb34a47a-e0ff-4ac5-d647-2c9af6324ec2",
    "papermill": {
     "duration": 0.034164,
     "end_time": "2023-07-20T19:56:33.877161",
     "exception": false,
     "start_time": "2023-07-20T19:56:33.842997",
     "status": "completed"
    },
    "tags": []
   },
   "outputs": [
    {
     "data": {
      "text/plain": [
       "array([25.56654851, 31.24940687, 19.04876502, 24.47852818, 39.37546387,\n",
       "       24.37566459, 11.92192754, 19.94086363, 41.22109189, 41.9215261 ,\n",
       "       13.76755557, 25.9225073 , 17.203137  , 15.50606268, 22.23125126,\n",
       "       21.48770634, -4.92349976, 31.10343258, 32.9490606 ,  0.46057329,\n",
       "       34.2402287 , 32.24862639, 34.53901401, 30.10421306, 18.94164411,\n",
       "        7.03978758, 29.21211445, 16.9500418 , 24.77731349,  4.04896574,\n",
       "       31.05774247, 23.93090499, 35.93988243, 31.94984108, 11.81480663,\n",
       "        3.60420614, 22.63290015, 33.09503489, 16.65125649, 38.23027006,\n",
       "       28.55737035, 21.78649166])"
      ]
     },
     "execution_count": 29,
     "metadata": {},
     "output_type": "execute_result"
    }
   ],
   "source": [
    "y_pred"
   ]
  },
  {
   "cell_type": "markdown",
   "id": "5095ac92",
   "metadata": {
    "papermill": {
     "duration": 0.023919,
     "end_time": "2023-07-20T19:56:33.924303",
     "exception": false,
     "start_time": "2023-07-20T19:56:33.900384",
     "status": "completed"
    },
    "tags": []
   },
   "source": [
    "# MODEL EVALUATION"
   ]
  },
  {
   "cell_type": "code",
   "execution_count": 30,
   "id": "604974e9",
   "metadata": {
    "execution": {
     "iopub.execute_input": "2023-07-20T19:56:33.972730Z",
     "iopub.status.busy": "2023-07-20T19:56:33.972293Z",
     "iopub.status.idle": "2023-07-20T19:56:33.981140Z",
     "shell.execute_reply": "2023-07-20T19:56:33.980033Z"
    },
    "id": "p4k-d72XrSWx",
    "outputId": "9ccd37ae-f991-42f6-8e6f-c96a23073d45",
    "papermill": {
     "duration": 0.036308,
     "end_time": "2023-07-20T19:56:33.983665",
     "exception": false,
     "start_time": "2023-07-20T19:56:33.947357",
     "status": "completed"
    },
    "tags": []
   },
   "outputs": [
    {
     "data": {
      "text/plain": [
       "60.211561593192876"
      ]
     },
     "execution_count": 30,
     "metadata": {},
     "output_type": "execute_result"
    }
   ],
   "source": [
    "mean_squared_error(y_test,y_pred)"
   ]
  },
  {
   "cell_type": "code",
   "execution_count": 31,
   "id": "569651e9",
   "metadata": {
    "execution": {
     "iopub.execute_input": "2023-07-20T19:56:34.032686Z",
     "iopub.status.busy": "2023-07-20T19:56:34.032210Z",
     "iopub.status.idle": "2023-07-20T19:56:34.040390Z",
     "shell.execute_reply": "2023-07-20T19:56:34.039311Z"
    },
    "id": "p7-k4h_ZvI0L",
    "outputId": "88116a37-da38-4a28-90de-dc7f99d0608c",
    "papermill": {
     "duration": 0.035647,
     "end_time": "2023-07-20T19:56:34.042741",
     "exception": false,
     "start_time": "2023-07-20T19:56:34.007094",
     "status": "completed"
    },
    "tags": []
   },
   "outputs": [
    {
     "data": {
      "text/plain": [
       "6.735955685746795"
      ]
     },
     "execution_count": 31,
     "metadata": {},
     "output_type": "execute_result"
    }
   ],
   "source": [
    "mean_absolute_error(y_test,y_pred)"
   ]
  },
  {
   "cell_type": "code",
   "execution_count": 32,
   "id": "43ace088",
   "metadata": {
    "execution": {
     "iopub.execute_input": "2023-07-20T19:56:34.090635Z",
     "iopub.status.busy": "2023-07-20T19:56:34.090136Z",
     "iopub.status.idle": "2023-07-20T19:56:34.098134Z",
     "shell.execute_reply": "2023-07-20T19:56:34.097265Z"
    },
    "id": "bBzN9dhpvPei",
    "outputId": "b3857dde-ef42-400d-90ce-6caa56e6e724",
    "papermill": {
     "duration": 0.034709,
     "end_time": "2023-07-20T19:56:34.100340",
     "exception": false,
     "start_time": "2023-07-20T19:56:34.065631",
     "status": "completed"
    },
    "tags": []
   },
   "outputs": [
    {
     "data": {
      "text/plain": [
       "0.706476624263817"
      ]
     },
     "execution_count": 32,
     "metadata": {},
     "output_type": "execute_result"
    }
   ],
   "source": [
    "r2_score(y_test, y_pred)"
   ]
  },
  {
   "cell_type": "code",
   "execution_count": null,
   "id": "056be2d6",
   "metadata": {
    "id": "2ZZODZmzvWkX",
    "papermill": {
     "duration": 0.023097,
     "end_time": "2023-07-20T19:56:34.147366",
     "exception": false,
     "start_time": "2023-07-20T19:56:34.124269",
     "status": "completed"
    },
    "tags": []
   },
   "outputs": [],
   "source": []
  }
 ],
 "metadata": {
  "kernelspec": {
   "display_name": "Python 3",
   "language": "python",
   "name": "python3"
  },
  "language_info": {
   "codemirror_mode": {
    "name": "ipython",
    "version": 3
   },
   "file_extension": ".py",
   "mimetype": "text/x-python",
   "name": "python",
   "nbconvert_exporter": "python",
   "pygments_lexer": "ipython3",
   "version": "3.10.10"
  },
  "papermill": {
   "default_parameters": {},
   "duration": 31.325406,
   "end_time": "2023-07-20T19:56:35.896865",
   "environment_variables": {},
   "exception": null,
   "input_path": "__notebook__.ipynb",
   "output_path": "__notebook__.ipynb",
   "parameters": {},
   "start_time": "2023-07-20T19:56:04.571459",
   "version": "2.4.0"
  }
 },
 "nbformat": 4,
 "nbformat_minor": 5
}
